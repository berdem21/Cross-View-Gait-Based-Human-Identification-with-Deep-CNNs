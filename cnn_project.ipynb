{
  "cells": [
    {
      "cell_type": "markdown",
      "metadata": {
        "id": "view-in-github",
        "colab_type": "text"
      },
      "source": [
        "<a href=\"https://colab.research.google.com/github/berdem21/Cross-View-Gait-Based-Human-Identification-with-Deep-CNNs/blob/master/cnn_project.ipynb\" target=\"_parent\"><img src=\"https://colab.research.google.com/assets/colab-badge.svg\" alt=\"Open In Colab\"/></a>"
      ]
    },
    {
      "cell_type": "code",
      "execution_count": 1,
      "id": "75448871",
      "metadata": {
        "id": "75448871"
      },
      "outputs": [],
      "source": [
        "import tensorflow as tf\n",
        "from tensorflow.keras.models import Sequential\n",
        "from tensorflow.keras.layers import Conv2D, MaxPooling2D, Flatten, Dense, Dropout\n",
        "from tensorflow.keras.preprocessing.image import ImageDataGenerator\n",
        "from tensorflow.keras.layers import TimeDistributed, LSTM, Input\n",
        "from tensorflow.keras.models import Model\n",
        "\n"
      ]
    },
    {
      "cell_type": "code",
      "execution_count": 2,
      "id": "8aef117f",
      "metadata": {
        "id": "8aef117f"
      },
      "outputs": [],
      "source": [
        "from PIL import Image\n",
        "import os\n",
        "import pandas as pd\n",
        "import numpy as np"
      ]
    },
    {
      "cell_type": "code",
      "execution_count": 3,
      "id": "7768f430",
      "metadata": {
        "id": "7768f430"
      },
      "outputs": [],
      "source": [
        "from sklearn.model_selection import train_test_split\n",
        "from sklearn.preprocessing import MinMaxScaler"
      ]
    },
    {
      "cell_type": "code",
      "execution_count": 4,
      "id": "4862de85",
      "metadata": {
        "id": "4862de85",
        "outputId": "5a249778-94c3-4f7a-ac61-b08036f872fb",
        "colab": {
          "base_uri": "https://localhost:8080/"
        }
      },
      "outputs": [
        {
          "output_type": "stream",
          "name": "stdout",
          "text": [
            "Loaded 0 .tif images from all subfolders.\n"
          ]
        }
      ],
      "source": [
        "\n",
        "# Specify the folder containing .tif images\n",
        "# Search for all subfolders and files that are .tif images\n",
        "folder_path = 'photos'\n",
        "tif_images = {} # Dictionary to store images keys are as filenames\n",
        "filenames = []\n",
        "for root, dirs, files in os.walk(folder_path):\n",
        "    for filename in files:\n",
        "        if filename.endswith('.tif'):\n",
        "            image_path = os.path.join(root, filename)\n",
        "            image = Image.open(image_path)\n",
        "            filenames.append(filename)\n",
        "            tif_images[filename] = image\n",
        "\n",
        "print(f\"Loaded {len(tif_images)} .tif images from all subfolders.\")\n"
      ]
    },
    {
      "cell_type": "code",
      "execution_count": 5,
      "id": "403abb83",
      "metadata": {
        "id": "403abb83",
        "colab": {
          "base_uri": "https://localhost:8080/",
          "height": 311
        },
        "outputId": "f52d737c-aef9-4d48-f925-a2f0e56deaeb"
      },
      "outputs": [
        {
          "output_type": "error",
          "ename": "FileNotFoundError",
          "evalue": "[Errno 2] No such file or directory: 'data.csv'",
          "traceback": [
            "\u001b[0;31m---------------------------------------------------------------------------\u001b[0m",
            "\u001b[0;31mFileNotFoundError\u001b[0m                         Traceback (most recent call last)",
            "\u001b[0;32m<ipython-input-5-4a26ef5f8382>\u001b[0m in \u001b[0;36m<cell line: 0>\u001b[0;34m()\u001b[0m\n\u001b[0;32m----> 1\u001b[0;31m \u001b[0mdata\u001b[0m \u001b[0;34m=\u001b[0m \u001b[0mpd\u001b[0m\u001b[0;34m.\u001b[0m\u001b[0mread_csv\u001b[0m\u001b[0;34m(\u001b[0m\u001b[0;34m'data.csv'\u001b[0m\u001b[0;34m,\u001b[0m\u001b[0mdelimiter\u001b[0m\u001b[0;34m=\u001b[0m\u001b[0;34m';'\u001b[0m\u001b[0;34m)\u001b[0m\u001b[0;34m\u001b[0m\u001b[0;34m\u001b[0m\u001b[0m\n\u001b[0m",
            "\u001b[0;32m/usr/local/lib/python3.11/dist-packages/pandas/io/parsers/readers.py\u001b[0m in \u001b[0;36mread_csv\u001b[0;34m(filepath_or_buffer, sep, delimiter, header, names, index_col, usecols, dtype, engine, converters, true_values, false_values, skipinitialspace, skiprows, skipfooter, nrows, na_values, keep_default_na, na_filter, verbose, skip_blank_lines, parse_dates, infer_datetime_format, keep_date_col, date_parser, date_format, dayfirst, cache_dates, iterator, chunksize, compression, thousands, decimal, lineterminator, quotechar, quoting, doublequote, escapechar, comment, encoding, encoding_errors, dialect, on_bad_lines, delim_whitespace, low_memory, memory_map, float_precision, storage_options, dtype_backend)\u001b[0m\n\u001b[1;32m   1024\u001b[0m     \u001b[0mkwds\u001b[0m\u001b[0;34m.\u001b[0m\u001b[0mupdate\u001b[0m\u001b[0;34m(\u001b[0m\u001b[0mkwds_defaults\u001b[0m\u001b[0;34m)\u001b[0m\u001b[0;34m\u001b[0m\u001b[0;34m\u001b[0m\u001b[0m\n\u001b[1;32m   1025\u001b[0m \u001b[0;34m\u001b[0m\u001b[0m\n\u001b[0;32m-> 1026\u001b[0;31m     \u001b[0;32mreturn\u001b[0m \u001b[0m_read\u001b[0m\u001b[0;34m(\u001b[0m\u001b[0mfilepath_or_buffer\u001b[0m\u001b[0;34m,\u001b[0m \u001b[0mkwds\u001b[0m\u001b[0;34m)\u001b[0m\u001b[0;34m\u001b[0m\u001b[0;34m\u001b[0m\u001b[0m\n\u001b[0m\u001b[1;32m   1027\u001b[0m \u001b[0;34m\u001b[0m\u001b[0m\n\u001b[1;32m   1028\u001b[0m \u001b[0;34m\u001b[0m\u001b[0m\n",
            "\u001b[0;32m/usr/local/lib/python3.11/dist-packages/pandas/io/parsers/readers.py\u001b[0m in \u001b[0;36m_read\u001b[0;34m(filepath_or_buffer, kwds)\u001b[0m\n\u001b[1;32m    618\u001b[0m \u001b[0;34m\u001b[0m\u001b[0m\n\u001b[1;32m    619\u001b[0m     \u001b[0;31m# Create the parser.\u001b[0m\u001b[0;34m\u001b[0m\u001b[0;34m\u001b[0m\u001b[0m\n\u001b[0;32m--> 620\u001b[0;31m     \u001b[0mparser\u001b[0m \u001b[0;34m=\u001b[0m \u001b[0mTextFileReader\u001b[0m\u001b[0;34m(\u001b[0m\u001b[0mfilepath_or_buffer\u001b[0m\u001b[0;34m,\u001b[0m \u001b[0;34m**\u001b[0m\u001b[0mkwds\u001b[0m\u001b[0;34m)\u001b[0m\u001b[0;34m\u001b[0m\u001b[0;34m\u001b[0m\u001b[0m\n\u001b[0m\u001b[1;32m    621\u001b[0m \u001b[0;34m\u001b[0m\u001b[0m\n\u001b[1;32m    622\u001b[0m     \u001b[0;32mif\u001b[0m \u001b[0mchunksize\u001b[0m \u001b[0;32mor\u001b[0m \u001b[0miterator\u001b[0m\u001b[0;34m:\u001b[0m\u001b[0;34m\u001b[0m\u001b[0;34m\u001b[0m\u001b[0m\n",
            "\u001b[0;32m/usr/local/lib/python3.11/dist-packages/pandas/io/parsers/readers.py\u001b[0m in \u001b[0;36m__init__\u001b[0;34m(self, f, engine, **kwds)\u001b[0m\n\u001b[1;32m   1618\u001b[0m \u001b[0;34m\u001b[0m\u001b[0m\n\u001b[1;32m   1619\u001b[0m         \u001b[0mself\u001b[0m\u001b[0;34m.\u001b[0m\u001b[0mhandles\u001b[0m\u001b[0;34m:\u001b[0m \u001b[0mIOHandles\u001b[0m \u001b[0;34m|\u001b[0m \u001b[0;32mNone\u001b[0m \u001b[0;34m=\u001b[0m \u001b[0;32mNone\u001b[0m\u001b[0;34m\u001b[0m\u001b[0;34m\u001b[0m\u001b[0m\n\u001b[0;32m-> 1620\u001b[0;31m         \u001b[0mself\u001b[0m\u001b[0;34m.\u001b[0m\u001b[0m_engine\u001b[0m \u001b[0;34m=\u001b[0m \u001b[0mself\u001b[0m\u001b[0;34m.\u001b[0m\u001b[0m_make_engine\u001b[0m\u001b[0;34m(\u001b[0m\u001b[0mf\u001b[0m\u001b[0;34m,\u001b[0m \u001b[0mself\u001b[0m\u001b[0;34m.\u001b[0m\u001b[0mengine\u001b[0m\u001b[0;34m)\u001b[0m\u001b[0;34m\u001b[0m\u001b[0;34m\u001b[0m\u001b[0m\n\u001b[0m\u001b[1;32m   1621\u001b[0m \u001b[0;34m\u001b[0m\u001b[0m\n\u001b[1;32m   1622\u001b[0m     \u001b[0;32mdef\u001b[0m \u001b[0mclose\u001b[0m\u001b[0;34m(\u001b[0m\u001b[0mself\u001b[0m\u001b[0;34m)\u001b[0m \u001b[0;34m->\u001b[0m \u001b[0;32mNone\u001b[0m\u001b[0;34m:\u001b[0m\u001b[0;34m\u001b[0m\u001b[0;34m\u001b[0m\u001b[0m\n",
            "\u001b[0;32m/usr/local/lib/python3.11/dist-packages/pandas/io/parsers/readers.py\u001b[0m in \u001b[0;36m_make_engine\u001b[0;34m(self, f, engine)\u001b[0m\n\u001b[1;32m   1878\u001b[0m                 \u001b[0;32mif\u001b[0m \u001b[0;34m\"b\"\u001b[0m \u001b[0;32mnot\u001b[0m \u001b[0;32min\u001b[0m \u001b[0mmode\u001b[0m\u001b[0;34m:\u001b[0m\u001b[0;34m\u001b[0m\u001b[0;34m\u001b[0m\u001b[0m\n\u001b[1;32m   1879\u001b[0m                     \u001b[0mmode\u001b[0m \u001b[0;34m+=\u001b[0m \u001b[0;34m\"b\"\u001b[0m\u001b[0;34m\u001b[0m\u001b[0;34m\u001b[0m\u001b[0m\n\u001b[0;32m-> 1880\u001b[0;31m             self.handles = get_handle(\n\u001b[0m\u001b[1;32m   1881\u001b[0m                 \u001b[0mf\u001b[0m\u001b[0;34m,\u001b[0m\u001b[0;34m\u001b[0m\u001b[0;34m\u001b[0m\u001b[0m\n\u001b[1;32m   1882\u001b[0m                 \u001b[0mmode\u001b[0m\u001b[0;34m,\u001b[0m\u001b[0;34m\u001b[0m\u001b[0;34m\u001b[0m\u001b[0m\n",
            "\u001b[0;32m/usr/local/lib/python3.11/dist-packages/pandas/io/common.py\u001b[0m in \u001b[0;36mget_handle\u001b[0;34m(path_or_buf, mode, encoding, compression, memory_map, is_text, errors, storage_options)\u001b[0m\n\u001b[1;32m    871\u001b[0m         \u001b[0;32mif\u001b[0m \u001b[0mioargs\u001b[0m\u001b[0;34m.\u001b[0m\u001b[0mencoding\u001b[0m \u001b[0;32mand\u001b[0m \u001b[0;34m\"b\"\u001b[0m \u001b[0;32mnot\u001b[0m \u001b[0;32min\u001b[0m \u001b[0mioargs\u001b[0m\u001b[0;34m.\u001b[0m\u001b[0mmode\u001b[0m\u001b[0;34m:\u001b[0m\u001b[0;34m\u001b[0m\u001b[0;34m\u001b[0m\u001b[0m\n\u001b[1;32m    872\u001b[0m             \u001b[0;31m# Encoding\u001b[0m\u001b[0;34m\u001b[0m\u001b[0;34m\u001b[0m\u001b[0m\n\u001b[0;32m--> 873\u001b[0;31m             handle = open(\n\u001b[0m\u001b[1;32m    874\u001b[0m                 \u001b[0mhandle\u001b[0m\u001b[0;34m,\u001b[0m\u001b[0;34m\u001b[0m\u001b[0;34m\u001b[0m\u001b[0m\n\u001b[1;32m    875\u001b[0m                 \u001b[0mioargs\u001b[0m\u001b[0;34m.\u001b[0m\u001b[0mmode\u001b[0m\u001b[0;34m,\u001b[0m\u001b[0;34m\u001b[0m\u001b[0;34m\u001b[0m\u001b[0m\n",
            "\u001b[0;31mFileNotFoundError\u001b[0m: [Errno 2] No such file or directory: 'data.csv'"
          ]
        }
      ],
      "source": [
        "data = pd.read_csv('data.csv',delimiter=';')"
      ]
    },
    {
      "cell_type": "code",
      "execution_count": null,
      "id": "4989e17d",
      "metadata": {
        "id": "4989e17d"
      },
      "outputs": [],
      "source": [
        "filenames"
      ]
    },
    {
      "cell_type": "code",
      "execution_count": null,
      "id": "4f7332b0",
      "metadata": {
        "id": "4f7332b0"
      },
      "outputs": [],
      "source": [
        "data.info()"
      ]
    },
    {
      "cell_type": "code",
      "execution_count": null,
      "id": "e4175336",
      "metadata": {
        "id": "e4175336"
      },
      "outputs": [],
      "source": [
        "data_photos = data[data['Image_Name'].isin(filenames)]"
      ]
    },
    {
      "cell_type": "code",
      "execution_count": null,
      "id": "6a582e55",
      "metadata": {
        "id": "6a582e55"
      },
      "outputs": [],
      "source": [
        "data_photos_direct = data_photos[data_photos['Culture_Technique '] == 'direct']"
      ]
    },
    {
      "cell_type": "code",
      "execution_count": null,
      "id": "ed57f141",
      "metadata": {
        "id": "ed57f141"
      },
      "outputs": [],
      "source": [
        "data_photos_direct.info()"
      ]
    },
    {
      "cell_type": "code",
      "execution_count": null,
      "id": "e05d11d3",
      "metadata": {
        "id": "e05d11d3"
      },
      "outputs": [],
      "source": [
        "data_photos_direct['Migration Capacity '] = (data_photos_direct['Migration Capacity ']\n",
        "    .str.replace(',', '.')  # Replace comma with period\n",
        "    .astype(float))"
      ]
    },
    {
      "cell_type": "code",
      "execution_count": null,
      "id": "a029f87b",
      "metadata": {
        "id": "a029f87b"
      },
      "outputs": [],
      "source": [
        "migration_capacity_dict = dict(zip(data_photos_direct['Image_Name'], data_photos_direct['Migration Capacity ']))"
      ]
    },
    {
      "cell_type": "code",
      "execution_count": null,
      "id": "cf9bcfe9",
      "metadata": {
        "id": "cf9bcfe9"
      },
      "outputs": [],
      "source": []
    },
    {
      "cell_type": "code",
      "execution_count": null,
      "id": "82944a62",
      "metadata": {
        "id": "82944a62"
      },
      "outputs": [],
      "source": [
        "data_d3_e1 = list(data_photos_direct['Image_Name'][(data_photos_direct['ExperimentSeries'] == 1) & (data_photos_direct['Day'] == 3)])\n",
        "data_d3_e2 = list(data_photos_direct['Image_Name'][(data_photos_direct['ExperimentSeries'] == 2) & (data_photos_direct['Day'] == 3)])\n",
        "data_d5_e1 = list(data_photos_direct['Image_Name'][(data_photos_direct['ExperimentSeries'] == 1) & (data_photos_direct['Day'] == 5)])\n",
        "data_d5_e2 = list(data_photos_direct['Image_Name'][(data_photos_direct['ExperimentSeries'] == 2) & (data_photos_direct['Day'] == 5)])\n",
        "data_d7_e1 = list(data_photos_direct['Image_Name'][(data_photos_direct['ExperimentSeries'] == 1) & (data_photos_direct['Day'] == 7)])\n",
        "data_d7_e2 = list(data_photos_direct['Image_Name'][(data_photos_direct['ExperimentSeries'] == 2) & (data_photos_direct['Day'] == 7)])"
      ]
    },
    {
      "cell_type": "code",
      "execution_count": null,
      "id": "0e008314",
      "metadata": {
        "id": "0e008314"
      },
      "outputs": [],
      "source": [
        "print(\"Length of data_d3_e1:\", len(data_d3_e1))\n",
        "print(\"Length of data_d3_e2:\", len(data_d3_e2))\n",
        "print(\"Length of data_d5_e1:\", len(data_d5_e1))\n",
        "print(\"Length of data_d5_e2:\", len(data_d5_e2))\n",
        "print(\"Length of data_d7_e1:\", len(data_d7_e1))\n",
        "print(\"Length of data_d7_e2:\", len(data_d7_e2))"
      ]
    },
    {
      "cell_type": "code",
      "execution_count": null,
      "id": "a19dd817",
      "metadata": {
        "id": "a19dd817"
      },
      "outputs": [],
      "source": [
        "sequences_e1 = []\n",
        "for i1 in data_d3_e1:\n",
        "    for i2 in data_d5_e1:\n",
        "        for i3 in data_d7_e1:\n",
        "            sequences_e1.append([i1, i2, i3])\n",
        "\n",
        "sequences_e2 = []\n",
        "for i1 in data_d3_e2:\n",
        "    for i2 in data_d5_e2:\n",
        "        for i3 in data_d7_e2:\n",
        "            sequences_e2.append([i1, i2, i3])\n",
        "\n",
        "sequences = sequences_e1 + sequences_e2"
      ]
    },
    {
      "cell_type": "code",
      "execution_count": null,
      "id": "013c331d",
      "metadata": {
        "id": "013c331d"
      },
      "outputs": [],
      "source": [
        "labels = [seq[-1] for seq in sequences]\n",
        "sequences = [seq[:-1] for seq in sequences]"
      ]
    },
    {
      "cell_type": "code",
      "execution_count": null,
      "id": "d455e13d",
      "metadata": {
        "id": "d455e13d"
      },
      "outputs": [],
      "source": [
        "data_train, data_test, label_train, label_test = train_test_split(sequences, labels, test_size=0.15)"
      ]
    },
    {
      "cell_type": "code",
      "execution_count": null,
      "id": "698cd88e",
      "metadata": {
        "id": "698cd88e"
      },
      "outputs": [],
      "source": [
        "data_train = np.array(data_train)\n",
        "data_test = np.array(data_test)\n",
        "label_train = np.array(label_train)\n",
        "label_test = np.array(label_test)\n",
        "data_train.shape , data_test.shape"
      ]
    },
    {
      "cell_type": "code",
      "execution_count": 6,
      "id": "340040e5",
      "metadata": {
        "id": "340040e5"
      },
      "outputs": [],
      "source": [
        "def reshape_images(image_dict, target_size=(224, 224)):\n",
        "    \"\"\"\n",
        "    Reshapes the images in the dictionary to the target size and converts them to numpy arrays.\n",
        "\n",
        "    Parameters:\n",
        "        image_dict (dict): Dictionary where keys are filenames and values are PIL Image objects.\n",
        "        target_size (tuple): Target size to reshape the images (width, height).\n",
        "\n",
        "    Returns:\n",
        "        dict: Dictionary with the same keys but values as reshaped numpy arrays.\n",
        "    \"\"\"\n",
        "    reshaped_images = {}\n",
        "    for filename, image in image_dict.items():\n",
        "        reshaped_image = image.resize(target_size)\n",
        "        reshaped_images[filename] = np.array(reshaped_image)\n",
        "    return reshaped_images\n"
      ]
    },
    {
      "cell_type": "code",
      "execution_count": 7,
      "id": "e6c2f51d",
      "metadata": {
        "id": "e6c2f51d"
      },
      "outputs": [],
      "source": [
        "photos_array = reshape_images(tif_images, target_size=(224,224))"
      ]
    },
    {
      "cell_type": "code",
      "execution_count": null,
      "id": "d58b063e",
      "metadata": {
        "id": "d58b063e",
        "outputId": "182c9155-ddb0-4caf-8dd2-6e6c471748fb"
      },
      "outputs": [
        {
          "data": {
            "text/plain": [
              "array([['direct1_1_U87_2D3.tif', 'direct2_4_U87_2D5.tif'],\n",
              "       ['direct1_1_U87_2D3.tif', 'direct2_4_U87_2D5.tif'],\n",
              "       ['direct1_5_U87_2D3.tif', 'direct1_4_U87_2D5.tif'],\n",
              "       ['direct2_3_U87_2D3.tif', 'direct3_2_U87_2D5.tif'],\n",
              "       ['direct1_1_U87_2D3.tif', 'direct2_2_U87_2D5.tif'],\n",
              "       ['direct1_5_U87_2D3.tif', 'direct1_5_U87_2D5.tif'],\n",
              "       ['direct1_1_U87_2D3.tif', 'direct2_4_U87_2D5.tif'],\n",
              "       ['diret2_1_U87_2D3.tif', 'direct2_2_U87_2D5.tif'],\n",
              "       ['diret2_1_U87_2D3.tif', 'direct2_4_U87_2D5.tif'],\n",
              "       ['direct1_5_U87_2D3.tif', 'direct3_2_U87_2D5.tif'],\n",
              "       ['direct2_3_U87_2D3.tif', 'direct2_4_U87_2D5.tif'],\n",
              "       ['diret2_1_U87_2D3.tif', 'direct1_4_U87_2D5.tif'],\n",
              "       ['diret2_1_U87_2D3.tif', 'direct2_4_U87_2D5.tif'],\n",
              "       ['direct1_U87_1D3.tif', 'direct2-U87_1D5.tif'],\n",
              "       ['direct1_U87_1D3.tif', 'direct1-U87_1D5.tif'],\n",
              "       ['direct1_5_U87_2D3.tif', 'direct2_4_U87_2D5.tif'],\n",
              "       ['diret2_1_U87_2D3.tif', 'direct3_3_U87_2D5.tif'],\n",
              "       ['diret2_1_U87_2D3.tif', 'direct1_5_U87_2D5.tif'],\n",
              "       ['direct1_5_U87_2D3.tif', 'direct2_2_U87_2D5.tif'],\n",
              "       ['direct2_U87_1D3.tif', 'direct1-U87_1D5.tif'],\n",
              "       ['direct1_1_U87_2D3.tif', 'direct3_2_U87_2D5.tif'],\n",
              "       ['diret2_1_U87_2D3.tif', 'direct1_5_U87_2D5.tif'],\n",
              "       ['direct2_3_U87_2D3.tif', 'direct2_4_U87_2D5.tif'],\n",
              "       ['direct2_3_U87_2D3.tif', 'direct2_4_U87_2D5.tif'],\n",
              "       ['direct1_1_U87_2D3.tif', 'direct1_5_U87_2D5.tif'],\n",
              "       ['direct1_1_U87_2D3.tif', 'direct3_2_U87_2D5.tif'],\n",
              "       ['direct2_3_U87_2D3.tif', 'direct3_2_U87_2D5.tif'],\n",
              "       ['direct2_U87_1D3.tif', 'direct2-U87_1D5.tif'],\n",
              "       ['direct2_3_U87_2D3.tif', 'direct2_2_U87_2D5.tif'],\n",
              "       ['diret2_1_U87_2D3.tif', 'direct1_4_U87_2D5.tif'],\n",
              "       ['direct1_5_U87_2D3.tif', 'direct2_4_U87_2D5.tif'],\n",
              "       ['direct1_1_U87_2D3.tif', 'direct3_2_U87_2D5.tif'],\n",
              "       ['direct2_U87_1D3.tif', 'direct1-U87_1D5.tif'],\n",
              "       ['diret2_1_U87_2D3.tif', 'direct3_2_U87_2D5.tif'],\n",
              "       ['direct2_U87_1D3.tif', 'direct1-U87_1D5.tif'],\n",
              "       ['diret2_1_U87_2D3.tif', 'direct3_3_U87_2D5.tif'],\n",
              "       ['diret2_1_U87_2D3.tif', 'direct2_4_U87_2D5.tif'],\n",
              "       ['direct1_U87_1D3.tif', 'direct2-U87_1D5.tif'],\n",
              "       ['direct1_5_U87_2D3.tif', 'direct3_3_U87_2D5.tif'],\n",
              "       ['direct1_5_U87_2D3.tif', 'direct3_2_U87_2D5.tif'],\n",
              "       ['direct1_5_U87_2D3.tif', 'direct2_4_U87_2D5.tif'],\n",
              "       ['direct2_3_U87_2D3.tif', 'direct1_5_U87_2D5.tif'],\n",
              "       ['direct1_5_U87_2D3.tif', 'direct1_4_U87_2D5.tif'],\n",
              "       ['direct1_1_U87_2D3.tif', 'direct3_3_U87_2D5.tif'],\n",
              "       ['direct2_U87_1D3.tif', 'direct2-U87_1D5.tif'],\n",
              "       ['direct1_1_U87_2D3.tif', 'direct1_5_U87_2D5.tif'],\n",
              "       ['direct1_1_U87_2D3.tif', 'direct2_2_U87_2D5.tif'],\n",
              "       ['direct1_U87_1D3.tif', 'direct1-U87_1D5.tif'],\n",
              "       ['direct2_U87_1D3.tif', 'direct3_U87_1D5.tif'],\n",
              "       ['direct2_3_U87_2D3.tif', 'direct1_5_U87_2D5.tif'],\n",
              "       ['direct2_3_U87_2D3.tif', 'direct1_4_U87_2D5.tif'],\n",
              "       ['direct2_3_U87_2D3.tif', 'direct2_2_U87_2D5.tif'],\n",
              "       ['direct1_5_U87_2D3.tif', 'direct2_2_U87_2D5.tif'],\n",
              "       ['direct2_3_U87_2D3.tif', 'direct3_3_U87_2D5.tif'],\n",
              "       ['direct1_5_U87_2D3.tif', 'direct2_2_U87_2D5.tif'],\n",
              "       ['direct2_3_U87_2D3.tif', 'direct3_2_U87_2D5.tif'],\n",
              "       ['direct1_1_U87_2D3.tif', 'direct1_4_U87_2D5.tif'],\n",
              "       ['diret2_1_U87_2D3.tif', 'direct1_5_U87_2D5.tif'],\n",
              "       ['direct1_1_U87_2D3.tif', 'direct1_4_U87_2D5.tif'],\n",
              "       ['diret2_1_U87_2D3.tif', 'direct2_2_U87_2D5.tif'],\n",
              "       ['diret2_1_U87_2D3.tif', 'direct3_2_U87_2D5.tif'],\n",
              "       ['direct1_5_U87_2D3.tif', 'direct1_5_U87_2D5.tif'],\n",
              "       ['direct1_5_U87_2D3.tif', 'direct3_2_U87_2D5.tif'],\n",
              "       ['diret2_1_U87_2D3.tif', 'direct1_4_U87_2D5.tif'],\n",
              "       ['diret2_1_U87_2D3.tif', 'direct2_2_U87_2D5.tif'],\n",
              "       ['direct1_5_U87_2D3.tif', 'direct1_5_U87_2D5.tif'],\n",
              "       ['direct1_U87_1D3.tif', 'direct3_U87_1D5.tif'],\n",
              "       ['direct2_U87_1D3.tif', 'direct3_U87_1D5.tif'],\n",
              "       ['direct1_U87_1D3.tif', 'direct3_U87_1D5.tif'],\n",
              "       ['direct2_3_U87_2D3.tif', 'direct2_2_U87_2D5.tif'],\n",
              "       ['direct1_U87_1D3.tif', 'direct2-U87_1D5.tif'],\n",
              "       ['diret2_1_U87_2D3.tif', 'direct3_2_U87_2D5.tif'],\n",
              "       ['direct1_1_U87_2D3.tif', 'direct1_5_U87_2D5.tif'],\n",
              "       ['direct1_U87_1D3.tif', 'direct1-U87_1D5.tif'],\n",
              "       ['direct1_5_U87_2D3.tif', 'direct3_3_U87_2D5.tif'],\n",
              "       ['direct2_3_U87_2D3.tif', 'direct3_3_U87_2D5.tif']], dtype='<U21')"
            ]
          },
          "execution_count": 256,
          "metadata": {},
          "output_type": "execute_result"
        }
      ],
      "source": [
        "data_train"
      ]
    },
    {
      "cell_type": "code",
      "execution_count": null,
      "id": "8f2e5d60",
      "metadata": {
        "id": "8f2e5d60"
      },
      "outputs": [],
      "source": [
        "X_train = [[photos_array[f] for f in seq] for seq in data_train]\n",
        "X_train = np.array(X_train)\n",
        "X_test = [[photos_array[f] for f in seq] for seq in data_test]\n",
        "X_test = np.array(X_test)"
      ]
    },
    {
      "cell_type": "code",
      "execution_count": null,
      "id": "4ccfc1d3",
      "metadata": {
        "id": "4ccfc1d3"
      },
      "outputs": [],
      "source": [
        "y_train = np.array([migration_capacity_dict[f] for f in label_train])\n",
        "y_test = np.array([migration_capacity_dict[f] for f in label_test])"
      ]
    },
    {
      "cell_type": "code",
      "execution_count": null,
      "id": "fd03170a",
      "metadata": {
        "id": "fd03170a",
        "outputId": "20768400-df2a-40e9-a30f-9660c7db23be"
      },
      "outputs": [
        {
          "data": {
            "text/plain": [
              "(2, 224, 224, 3)"
            ]
          },
          "execution_count": 259,
          "metadata": {},
          "output_type": "execute_result"
        }
      ],
      "source": [
        "X_train[0].shape"
      ]
    },
    {
      "cell_type": "code",
      "execution_count": null,
      "id": "2163591a",
      "metadata": {
        "id": "2163591a"
      },
      "outputs": [],
      "source": [
        "scaler = MinMaxScaler()\n",
        "y_train_scaled = scaler.fit_transform(y_train.reshape(-1, 1))\n",
        "y_test_scaled = scaler.transform(y_test.reshape(-1, 1))"
      ]
    },
    {
      "cell_type": "code",
      "execution_count": null,
      "id": "dfb3f642",
      "metadata": {
        "id": "dfb3f642"
      },
      "outputs": [],
      "source": []
    },
    {
      "cell_type": "code",
      "execution_count": null,
      "id": "73e545e3",
      "metadata": {
        "id": "73e545e3"
      },
      "outputs": [],
      "source": [
        "cnn_model = Sequential([\n",
        "Conv2D(32, (3, 3), activation='relu', input_shape=(224,224, 3)),\n",
        "MaxPooling2D((2, 2)),\n",
        "Flatten(),\n",
        "Dense(16, activation='relu')\n",
        "])\n",
        "\n",
        "input_layer = Input(shape=(2, 224,224, 3))\n",
        "encoded_sequence = TimeDistributed(cnn_model)(input_layer)\n",
        "\n",
        "# Add RNN layers\n",
        "lstm_out = LSTM(32, return_sequences=False)(encoded_sequence)\n",
        "\n",
        "# Add Dense layers for final prediction\n",
        "x = Dense(16, activation='relu')(lstm_out)\n",
        "output = Dense(1)(x)  # Single real value output\n",
        "\n",
        "model = Model(inputs=input_layer, outputs=output)\n",
        "\n",
        "model.compile(optimizer='adam', loss='mean_squared_error', metrics=['mae'])"
      ]
    },
    {
      "cell_type": "code",
      "execution_count": null,
      "id": "a5e08352",
      "metadata": {
        "id": "a5e08352",
        "outputId": "79b0b990-d5f1-4308-ba16-9e1e8d4cb923"
      },
      "outputs": [
        {
          "name": "stdout",
          "output_type": "stream",
          "text": [
            "Epoch 1/30\n",
            "3/3 [==============================] - 1s 155ms/step - loss: 41.5564 - mae: 6.3014\n",
            "Epoch 2/30\n",
            "3/3 [==============================] - 1s 155ms/step - loss: 40.2248 - mae: 6.1963\n",
            "Epoch 3/30\n",
            "3/3 [==============================] - 1s 158ms/step - loss: 38.9846 - mae: 6.0931\n",
            "Epoch 4/30\n",
            "3/3 [==============================] - 1s 153ms/step - loss: 37.6048 - mae: 5.9802\n",
            "Epoch 5/30\n",
            "3/3 [==============================] - 1s 154ms/step - loss: 36.5411 - mae: 5.8908\n",
            "Epoch 6/30\n",
            "3/3 [==============================] - 1s 154ms/step - loss: 35.2152 - mae: 5.7787\n",
            "Epoch 7/30\n",
            "3/3 [==============================] - 1s 152ms/step - loss: 34.1426 - mae: 5.6860\n",
            "Epoch 8/30\n",
            "3/3 [==============================] - 1s 155ms/step - loss: 33.1118 - mae: 5.5937\n",
            "Epoch 9/30\n",
            "3/3 [==============================] - 1s 153ms/step - loss: 32.1665 - mae: 5.5075\n",
            "Epoch 10/30\n",
            "3/3 [==============================] - 1s 152ms/step - loss: 31.1068 - mae: 5.4115\n",
            "Epoch 11/30\n",
            "3/3 [==============================] - 1s 151ms/step - loss: 30.0869 - mae: 5.3149\n",
            "Epoch 12/30\n",
            "3/3 [==============================] - 1s 150ms/step - loss: 29.0414 - mae: 5.2170\n",
            "Epoch 13/30\n",
            "3/3 [==============================] - 1s 149ms/step - loss: 28.0300 - mae: 5.1185\n",
            "Epoch 14/30\n",
            "3/3 [==============================] - 1s 153ms/step - loss: 27.0281 - mae: 5.0190\n",
            "Epoch 15/30\n",
            "3/3 [==============================] - 1s 154ms/step - loss: 25.9881 - mae: 4.9146\n",
            "Epoch 16/30\n",
            "3/3 [==============================] - 1s 157ms/step - loss: 25.0008 - mae: 4.8104\n",
            "Epoch 17/30\n",
            "3/3 [==============================] - 1s 152ms/step - loss: 23.7765 - mae: 4.6809\n",
            "Epoch 18/30\n",
            "3/3 [==============================] - 1s 157ms/step - loss: 22.4858 - mae: 4.5452\n",
            "Epoch 19/30\n",
            "3/3 [==============================] - 1s 152ms/step - loss: 21.6156 - mae: 4.4469\n",
            "Epoch 20/30\n",
            "3/3 [==============================] - 1s 151ms/step - loss: 20.7121 - mae: 4.3576\n",
            "Epoch 21/30\n",
            "3/3 [==============================] - 1s 151ms/step - loss: 19.8500 - mae: 4.2743\n",
            "Epoch 22/30\n",
            "3/3 [==============================] - 1s 151ms/step - loss: 18.9821 - mae: 4.1843\n",
            "Epoch 23/30\n",
            "3/3 [==============================] - 1s 152ms/step - loss: 18.1444 - mae: 4.0988\n",
            "Epoch 24/30\n",
            "3/3 [==============================] - 1s 181ms/step - loss: 17.3195 - mae: 4.0110\n",
            "Epoch 25/30\n",
            "3/3 [==============================] - 1s 199ms/step - loss: 16.5184 - mae: 3.9253\n",
            "Epoch 26/30\n",
            "3/3 [==============================] - 1s 155ms/step - loss: 15.7358 - mae: 3.8387\n",
            "Epoch 27/30\n",
            "3/3 [==============================] - 1s 161ms/step - loss: 14.9610 - mae: 3.7482\n",
            "Epoch 28/30\n",
            "3/3 [==============================] - 1s 157ms/step - loss: 14.2008 - mae: 3.6583\n",
            "Epoch 29/30\n",
            "3/3 [==============================] - 1s 157ms/step - loss: 13.3658 - mae: 3.5567\n",
            "Epoch 30/30\n",
            "3/3 [==============================] - 1s 155ms/step - loss: 12.6227 - mae: 3.4625\n"
          ]
        }
      ],
      "source": [
        "history = model.fit(\n",
        "    X_train, y_train,\n",
        "    epochs=30,\n",
        "    batch_size=32,\n",
        ")"
      ]
    },
    {
      "cell_type": "code",
      "execution_count": null,
      "id": "41732faa",
      "metadata": {
        "id": "41732faa",
        "outputId": "be247dec-385f-4f53-e0f7-58569f13d09e"
      },
      "outputs": [
        {
          "name": "stdout",
          "output_type": "stream",
          "text": [
            "1/1 [==============================] - 0s 155ms/step\n"
          ]
        }
      ],
      "source": [
        "predictions = model.predict(X_test)"
      ]
    },
    {
      "cell_type": "code",
      "execution_count": null,
      "id": "27be4392",
      "metadata": {
        "id": "27be4392"
      },
      "outputs": [],
      "source": [
        "real_predictions = scaler.inverse_transform(predictions)\n"
      ]
    },
    {
      "cell_type": "code",
      "execution_count": null,
      "id": "95236f77",
      "metadata": {
        "id": "95236f77",
        "outputId": "934fc831-83ed-471e-9621-aa1da2cadfb1"
      },
      "outputs": [
        {
          "data": {
            "text/plain": [
              "256.25470566072323"
            ]
          },
          "execution_count": 266,
          "metadata": {},
          "output_type": "execute_result"
        }
      ],
      "source": [
        "mape = np.mean(np.abs((real_predictions - y_test) / y_test))\n",
        "mape * 100"
      ]
    },
    {
      "cell_type": "code",
      "execution_count": null,
      "id": "ef79c2eb",
      "metadata": {
        "id": "ef79c2eb",
        "outputId": "b6833c04-f7bd-45d0-e64a-622cdd1fbc90"
      },
      "outputs": [
        {
          "name": "stdout",
          "output_type": "stream",
          "text": [
            "3/3 [==============================] - 0s 45ms/step\n"
          ]
        },
        {
          "data": {
            "text/plain": [
              "285.45727889351633"
            ]
          },
          "execution_count": 267,
          "metadata": {},
          "output_type": "execute_result"
        }
      ],
      "source": [
        "predictions_train = model.predict(X_train)\n",
        "real_predictions_train = scaler.inverse_transform(predictions_train)\n",
        "mape_train = np.mean(np.abs((real_predictions_train - y_train) / y_train))\n",
        "mape_train * 100"
      ]
    },
    {
      "cell_type": "code",
      "execution_count": null,
      "id": "787ca6c5",
      "metadata": {
        "id": "787ca6c5"
      },
      "outputs": [],
      "source": [
        "import matplotlib.pyplot as plt\n"
      ]
    },
    {
      "cell_type": "code",
      "execution_count": null,
      "id": "aa8963df",
      "metadata": {
        "id": "aa8963df",
        "outputId": "eda3c9cd-7d2f-4e68-ce2b-8590f36a3b23"
      },
      "outputs": [
        {
          "data": {
            "image/png": "[encoded data removed]",
            "text/plain": [
              "<Figure size 1000x600 with 1 Axes>"
            ]
          },
          "metadata": {},
          "output_type": "display_data"
        }
      ],
      "source": [
        "\n",
        "# Plot real values vs predictions\n",
        "plt.figure(figsize=(10, 6))\n",
        "plt.plot(y_test, label='Real Values', marker='o')\n",
        "plt.plot(real_predictions, label='Predictions', marker='x')\n",
        "plt.title('Test Predictions vs Real Values')\n",
        "plt.xlabel('Sample Index')\n",
        "plt.ylabel('Migration Capacity')\n",
        "plt.legend()\n",
        "plt.grid(True)\n",
        "plt.show()"
      ]
    },
    {
      "cell_type": "code",
      "execution_count": null,
      "id": "fad3b433",
      "metadata": {
        "id": "fad3b433",
        "outputId": "3a1f1fbe-a93d-4fb0-d8d2-39be7dc4118f"
      },
      "outputs": [
        {
          "data": {
            "text/plain": [
              "array([[0.1586965],\n",
              "       [0.1586965],\n",
              "       [0.1586965],\n",
              "       [0.1586965],\n",
              "       [0.1586965],\n",
              "       [0.1586965],\n",
              "       [0.1586965],\n",
              "       [0.1586965],\n",
              "       [0.1586965],\n",
              "       [0.1586965],\n",
              "       [0.1586965],\n",
              "       [0.1586965],\n",
              "       [0.1586965],\n",
              "       [0.1586965]], dtype=float32)"
            ]
          },
          "execution_count": 175,
          "metadata": {},
          "output_type": "execute_result"
        }
      ],
      "source": [
        "predictions"
      ]
    },
    {
      "cell_type": "code",
      "execution_count": null,
      "id": "f17b6dfa",
      "metadata": {
        "id": "f17b6dfa",
        "outputId": "78593ebf-55a4-4538-f1d3-d66cf4bd7a68"
      },
      "outputs": [
        {
          "data": {
            "text/plain": [
              "array([[[[15,  0,  0],\n",
              "         [14,  0,  0],\n",
              "         [15,  0,  0],\n",
              "         ...,\n",
              "         [15,  0,  0],\n",
              "         [16,  0,  0],\n",
              "         [15,  0,  0]],\n",
              "\n",
              "        [[15,  0,  0],\n",
              "         [14,  0,  0],\n",
              "         [12,  0,  0],\n",
              "         ...,\n",
              "         [17,  0,  0],\n",
              "         [13,  0,  0],\n",
              "         [14,  0,  0]],\n",
              "\n",
              "        [[15,  0,  0],\n",
              "         [14,  0,  0],\n",
              "         [13,  0,  0],\n",
              "         ...,\n",
              "         [16,  0,  0],\n",
              "         [16,  0,  0],\n",
              "         [16,  0,  0]],\n",
              "\n",
              "        ...,\n",
              "\n",
              "        [[13,  0,  0],\n",
              "         [14,  0,  0],\n",
              "         [15,  0,  0],\n",
              "         ...,\n",
              "         [10,  0,  0],\n",
              "         [15,  0,  0],\n",
              "         [15,  0,  0]],\n",
              "\n",
              "        [[13,  0,  0],\n",
              "         [14,  0,  0],\n",
              "         [15,  0,  0],\n",
              "         ...,\n",
              "         [11,  0,  0],\n",
              "         [14,  0,  0],\n",
              "         [16,  0,  0]],\n",
              "\n",
              "        [[12,  0,  0],\n",
              "         [14,  0,  0],\n",
              "         [15,  0,  0],\n",
              "         ...,\n",
              "         [25,  0,  0],\n",
              "         [16,  0,  0],\n",
              "         [14,  0,  0]]],\n",
              "\n",
              "\n",
              "       [[[16,  0,  0],\n",
              "         [15,  0,  0],\n",
              "         [15,  0,  0],\n",
              "         ...,\n",
              "         [16,  0,  0],\n",
              "         [16,  0,  0],\n",
              "         [24,  0,  0]],\n",
              "\n",
              "        [[15,  0,  0],\n",
              "         [14,  0,  0],\n",
              "         [16,  0,  0],\n",
              "         ...,\n",
              "         [16,  0,  0],\n",
              "         [15,  0,  0],\n",
              "         [23,  0,  0]],\n",
              "\n",
              "        [[14,  0,  0],\n",
              "         [14,  0,  0],\n",
              "         [13,  0,  0],\n",
              "         ...,\n",
              "         [15,  0,  0],\n",
              "         [16,  0,  0],\n",
              "         [19,  0,  0]],\n",
              "\n",
              "        ...,\n",
              "\n",
              "        [[13,  0,  0],\n",
              "         [16,  0,  0],\n",
              "         [17,  0,  0],\n",
              "         ...,\n",
              "         [12,  0,  0],\n",
              "         [17,  0,  0],\n",
              "         [14,  0,  0]],\n",
              "\n",
              "        [[21,  0,  0],\n",
              "         [14,  0,  0],\n",
              "         [14,  0,  0],\n",
              "         ...,\n",
              "         [11,  0,  0],\n",
              "         [15,  0,  0],\n",
              "         [15,  0,  0]],\n",
              "\n",
              "        [[42,  0,  0],\n",
              "         [14,  0,  0],\n",
              "         [14,  0,  0],\n",
              "         ...,\n",
              "         [14,  0,  0],\n",
              "         [15,  0,  0],\n",
              "         [16,  0,  0]]]], dtype=uint8)"
            ]
          },
          "execution_count": 176,
          "metadata": {},
          "output_type": "execute_result"
        }
      ],
      "source": [
        "X_test[0]"
      ]
    },
    {
      "cell_type": "code",
      "execution_count": null,
      "id": "b49441ce",
      "metadata": {
        "id": "b49441ce",
        "outputId": "54829432-888e-46a9-8495-1ef169d7686d"
      },
      "outputs": [
        {
          "data": {
            "text/plain": [
              "array([[[[ 2,  0,  0],\n",
              "         [ 5,  0,  0],\n",
              "         [ 5,  0,  0],\n",
              "         ...,\n",
              "         [ 5,  0,  0],\n",
              "         [ 3,  0,  0],\n",
              "         [ 4,  0,  0]],\n",
              "\n",
              "        [[ 6,  0,  0],\n",
              "         [ 3,  0,  0],\n",
              "         [ 5,  0,  0],\n",
              "         ...,\n",
              "         [ 5,  0,  0],\n",
              "         [ 6,  0,  0],\n",
              "         [ 5,  0,  0]],\n",
              "\n",
              "        [[ 4,  0,  0],\n",
              "         [ 4,  0,  0],\n",
              "         [ 3,  0,  0],\n",
              "         ...,\n",
              "         [ 5,  0,  0],\n",
              "         [ 5,  0,  0],\n",
              "         [ 3,  0,  0]],\n",
              "\n",
              "        ...,\n",
              "\n",
              "        [[ 0,  0,  0],\n",
              "         [ 2,  0,  0],\n",
              "         [ 4,  0,  0],\n",
              "         ...,\n",
              "         [ 2,  0,  0],\n",
              "         [ 4,  0,  0],\n",
              "         [ 3,  0,  0]],\n",
              "\n",
              "        [[ 6,  0,  0],\n",
              "         [ 4,  0,  0],\n",
              "         [ 4,  0,  0],\n",
              "         ...,\n",
              "         [ 1,  0,  0],\n",
              "         [ 5,  0,  0],\n",
              "         [ 8,  0,  0]],\n",
              "\n",
              "        [[ 4,  0,  0],\n",
              "         [ 3,  0,  0],\n",
              "         [ 3,  0,  0],\n",
              "         ...,\n",
              "         [ 5,  0,  0],\n",
              "         [ 2,  0,  0],\n",
              "         [ 5,  0,  0]]],\n",
              "\n",
              "\n",
              "       [[[13,  0,  0],\n",
              "         [12,  0,  0],\n",
              "         [14,  0,  0],\n",
              "         ...,\n",
              "         [13,  0,  0],\n",
              "         [14,  0,  0],\n",
              "         [14,  0,  0]],\n",
              "\n",
              "        [[14,  0,  0],\n",
              "         [13,  0,  0],\n",
              "         [15,  0,  0],\n",
              "         ...,\n",
              "         [15,  0,  0],\n",
              "         [14,  0,  0],\n",
              "         [13,  0,  0]],\n",
              "\n",
              "        [[13,  0,  0],\n",
              "         [13,  0,  0],\n",
              "         [13,  0,  0],\n",
              "         ...,\n",
              "         [13,  0,  0],\n",
              "         [13,  0,  0],\n",
              "         [13,  0,  0]],\n",
              "\n",
              "        ...,\n",
              "\n",
              "        [[36,  0,  0],\n",
              "         [46,  0,  0],\n",
              "         [30,  0,  0],\n",
              "         ...,\n",
              "         [10,  0,  0],\n",
              "         [15,  0,  0],\n",
              "         [13,  0,  0]],\n",
              "\n",
              "        [[18,  0,  0],\n",
              "         [20,  0,  0],\n",
              "         [26,  0,  0],\n",
              "         ...,\n",
              "         [10,  0,  0],\n",
              "         [15,  0,  0],\n",
              "         [16,  0,  0]],\n",
              "\n",
              "        [[17,  0,  0],\n",
              "         [14,  0,  0],\n",
              "         [16,  0,  0],\n",
              "         ...,\n",
              "         [14,  0,  0],\n",
              "         [15,  0,  0],\n",
              "         [15,  0,  0]]]], dtype=uint8)"
            ]
          },
          "execution_count": 177,
          "metadata": {},
          "output_type": "execute_result"
        }
      ],
      "source": [
        "X_test[1]"
      ]
    },
    {
      "cell_type": "code",
      "execution_count": null,
      "id": "8966ba66",
      "metadata": {
        "id": "8966ba66"
      },
      "outputs": [],
      "source": []
    }
  ],
  "metadata": {
    "kernelspec": {
      "display_name": "kariyer_rnn",
      "language": "python",
      "name": "python3"
    },
    "language_info": {
      "codemirror_mode": {
        "name": "ipython",
        "version": 3
      },
      "file_extension": ".py",
      "mimetype": "text/x-python",
      "name": "python",
      "nbconvert_exporter": "python",
      "pygments_lexer": "ipython3",
      "version": "3.11.11"
    },
    "colab": {
      "provenance": [],
      "toc_visible": true,
      "include_colab_link": true
    }
  },
  "nbformat": 4,
  "nbformat_minor": 5
}